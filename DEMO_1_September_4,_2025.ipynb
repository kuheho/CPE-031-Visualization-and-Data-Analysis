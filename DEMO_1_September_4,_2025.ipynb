{
  "nbformat": 4,
  "nbformat_minor": 0,
  "metadata": {
    "colab": {
      "provenance": [],
      "mount_file_id": "1fd74Jnzhc4ZcLUKupMeo5XGhrCtkdAnn",
      "authorship_tag": "ABX9TyPY2/aLBBNi/SffnUXoDcjd",
      "include_colab_link": true
    },
    "kernelspec": {
      "name": "python3",
      "display_name": "Python 3"
    },
    "language_info": {
      "name": "python"
    }
  },
  "cells": [
    {
      "cell_type": "markdown",
      "metadata": {
        "id": "view-in-github",
        "colab_type": "text"
      },
      "source": [
        "<a href=\"https://colab.research.google.com/github/Tamondong-Ivan-Rex-B/CPE-031-Visualization-and-Data-Analysis/blob/ALL-DEMOS-CPE-031_TAMONDONG/DEMO_1_September_4%2C_2025.ipynb\" target=\"_parent\"><img src=\"https://colab.research.google.com/assets/colab-badge.svg\" alt=\"Open In Colab\"/></a>"
      ]
    },
    {
      "cell_type": "code",
      "execution_count": null,
      "metadata": {
        "colab": {
          "base_uri": "https://localhost:8080/"
        },
        "id": "ty9mo8ky8fAs",
        "outputId": "cf574c34-9dbc-4a0c-ea40-dee42baac6e2"
      },
      "outputs": [
        {
          "output_type": "stream",
          "name": "stdout",
          "text": [
            "Requirement already satisfied: pandas in /usr/local/lib/python3.12/dist-packages (2.2.2)\n",
            "Requirement already satisfied: numpy>=1.26.0 in /usr/local/lib/python3.12/dist-packages (from pandas) (2.0.2)\n",
            "Requirement already satisfied: python-dateutil>=2.8.2 in /usr/local/lib/python3.12/dist-packages (from pandas) (2.9.0.post0)\n",
            "Requirement already satisfied: pytz>=2020.1 in /usr/local/lib/python3.12/dist-packages (from pandas) (2025.2)\n",
            "Requirement already satisfied: tzdata>=2022.7 in /usr/local/lib/python3.12/dist-packages (from pandas) (2025.2)\n",
            "Requirement already satisfied: six>=1.5 in /usr/local/lib/python3.12/dist-packages (from python-dateutil>=2.8.2->pandas) (1.17.0)\n"
          ]
        }
      ],
      "source": [
        "!pip install pandas"
      ]
    },
    {
      "cell_type": "code",
      "source": [
        "#Example 1\n",
        "\n",
        "import pandas\n",
        "\n",
        "mydataset = {\n",
        "  'animals': [\"Cat\", \"Dog\", \"Rabbit\"],\n",
        "  'height': [13, 17, 8]\n",
        "}\n",
        "\n",
        "myvar = pandas.DataFrame(mydataset)\n",
        "\n",
        "print(myvar)"
      ],
      "metadata": {
        "colab": {
          "base_uri": "https://localhost:8080/"
        },
        "id": "sIJcA1B48heL",
        "outputId": "f9abb90c-19af-492e-f9bb-97797d6749ab"
      },
      "execution_count": null,
      "outputs": [
        {
          "output_type": "stream",
          "name": "stdout",
          "text": [
            "  animals  height\n",
            "0     Cat      13\n",
            "1     Dog      17\n",
            "2  Rabbit       8\n"
          ]
        }
      ]
    },
    {
      "cell_type": "code",
      "source": [
        "#Example 2 Locating using index\n",
        "\n",
        "#import pandas as pd\n",
        "import pandas\n",
        "\n",
        "a = [1, 7, 2]\n",
        "\n",
        "#myvar = pd.Series(a)\n",
        "myvar = pandas.Series(a)\n",
        "\n",
        "print(myvar)\n",
        "print(myvar[0])"
      ],
      "metadata": {
        "colab": {
          "base_uri": "https://localhost:8080/"
        },
        "id": "z2V1gwW8-NPc",
        "outputId": "ae4f61c0-938b-4ed1-b223-3539062741fe"
      },
      "execution_count": null,
      "outputs": [
        {
          "output_type": "stream",
          "name": "stdout",
          "text": [
            "0    1\n",
            "1    7\n",
            "2    2\n",
            "dtype: int64\n",
            "1\n"
          ]
        }
      ]
    },
    {
      "cell_type": "code",
      "source": [
        "#Example 3 Naming Indexes\n",
        "\n",
        "\n",
        "import pandas as pd\n",
        "\n",
        "a = [1, 7, 2,]\n",
        "\n",
        "myvar = pd.Series(a, index = [\"x\", \"y\", \"z\"])\n",
        "\n",
        "print(myvar)\n",
        "print(myvar[\"y\"])"
      ],
      "metadata": {
        "colab": {
          "base_uri": "https://localhost:8080/"
        },
        "id": "I0lOCL1O_HXk",
        "outputId": "f025af69-5c42-41cc-8f35-993089b7c5fe"
      },
      "execution_count": null,
      "outputs": [
        {
          "output_type": "stream",
          "name": "stdout",
          "text": [
            "x    1\n",
            "y    7\n",
            "z    2\n",
            "dtype: int64\n",
            "7\n"
          ]
        }
      ]
    },
    {
      "cell_type": "code",
      "source": [
        "#Example 4 Dictionary\n",
        "\n",
        "import pandas as pd\n",
        "\n",
        "calories = {\"day1\": 420, \"day2\": 380, \"day3\": 390} # {key:pair}\n",
        "\n",
        "myvar = pd.Series(calories)\n",
        "\n",
        "print(myvar)"
      ],
      "metadata": {
        "colab": {
          "base_uri": "https://localhost:8080/"
        },
        "id": "-tqcmBeb_pZl",
        "outputId": "01b59ba7-06b6-4864-e878-cbf36b9ce243"
      },
      "execution_count": null,
      "outputs": [
        {
          "output_type": "stream",
          "name": "stdout",
          "text": [
            "day1    420\n",
            "day2    380\n",
            "day3    390\n",
            "dtype: int64\n"
          ]
        }
      ]
    },
    {
      "cell_type": "code",
      "source": [
        "#Example 5 String\n",
        "\n",
        "import pandas as pd\n",
        "\n",
        "data = {\n",
        "    \"age\": [42, 38, 39],\n",
        "    \"weight\": [50, 40, 45]\n",
        "}\n",
        "\n",
        "myvar = pd.DataFrame(data)\n",
        "\n",
        "print(myvar)"
      ],
      "metadata": {
        "colab": {
          "base_uri": "https://localhost:8080/"
        },
        "id": "hK2luyMyAV4E",
        "outputId": "8a8a6982-ad1e-4d8e-e00b-ccf02966e335"
      },
      "execution_count": null,
      "outputs": [
        {
          "output_type": "stream",
          "name": "stdout",
          "text": [
            "   age  weight\n",
            "0   42      50\n",
            "1   38      40\n",
            "2   39      45\n"
          ]
        }
      ]
    },
    {
      "cell_type": "code",
      "source": [
        "#Example 6 Locating kineme\n",
        "import pandas as pd\n",
        "\n",
        "data = {\n",
        "    \"age\": [42, 38, 39],\n",
        "    \"weight\": [50, 40, 45]\n",
        "}\n",
        "\n",
        "myvar = pd.DataFrame(data)\n",
        "\n",
        "print(myvar)\n",
        "#refer to the row index:\n",
        "print(myvar.loc(0))\n",
        "\n",
        "#Return row 0 and 1:\n",
        "#use a list of indexes:\n",
        "print(myvar.loc[[0,1]])"
      ],
      "metadata": {
        "colab": {
          "base_uri": "https://localhost:8080/"
        },
        "id": "cSVLPQM4AwnU",
        "outputId": "3dd2278c-b492-44b5-df7a-92def8c9552e"
      },
      "execution_count": null,
      "outputs": [
        {
          "output_type": "stream",
          "name": "stdout",
          "text": [
            "   age  weight\n",
            "0   42      50\n",
            "1   38      40\n",
            "2   39      45\n",
            "<pandas.core.indexing._LocIndexer object at 0x7ba3fb830c80>\n",
            "   age  weight\n",
            "0   42      50\n",
            "1   38      40\n"
          ]
        }
      ]
    },
    {
      "cell_type": "code",
      "source": [
        "#Example 7 Named Index\n",
        "\n",
        "import pandas as pd\n",
        "\n",
        "data = {\n",
        "    \"calories\": [420, 380, 390],\n",
        "    \"duration\": [50, 40, 45]\n",
        "}\n",
        "\n",
        "df = pd.DataFrame(data, index = [\"day1\", \"day2\", \"day3\"])\n",
        "\n",
        "print(df)"
      ],
      "metadata": {
        "colab": {
          "base_uri": "https://localhost:8080/"
        },
        "id": "X0yQpriSB6Jm",
        "outputId": "9b554c3f-7ef0-430a-b43d-8236a3e459d6"
      },
      "execution_count": null,
      "outputs": [
        {
          "output_type": "stream",
          "name": "stdout",
          "text": [
            "      calories  duration\n",
            "day1       420        50\n",
            "day2       380        40\n",
            "day3       390        45\n"
          ]
        }
      ]
    },
    {
      "cell_type": "code",
      "source": [
        "#Example 8 Locate Named Index\n",
        "\n",
        "import pandas as pd\n",
        "\n",
        "data = {\n",
        "    \"calories\": [420, 380, 390],\n",
        "    \"duration\": [50, 40, 45]\n",
        "}\n",
        "\n",
        "df = pd.DataFrame(data, index = [\"day1\", \"day2\", \"day3\"])\n",
        "\n",
        "print(df)\n",
        "print(df.loc[\"day2\"])"
      ],
      "metadata": {
        "colab": {
          "base_uri": "https://localhost:8080/"
        },
        "id": "LRyyy9VyCbok",
        "outputId": "0d36be9c-ee5b-4948-94a4-1b4e6b36b3aa"
      },
      "execution_count": null,
      "outputs": [
        {
          "output_type": "stream",
          "name": "stdout",
          "text": [
            "      calories  duration\n",
            "day1       420        50\n",
            "day2       380        40\n",
            "day3       390        45\n",
            "calories    380\n",
            "duration     40\n",
            "Name: day2, dtype: int64\n"
          ]
        }
      ]
    },
    {
      "cell_type": "code",
      "source": [
        "import pandas as pd\n",
        "\n",
        "df = pd.read_csv('/content/drive/Othercomputers/My Laptop/TIP QC/TIP/Computer Engineering/2ND YEAR/1ST SEMESTER/CPE 031 Visualizations and Data Analysis/Midterms/RoadAccidents.csv')\n",
        "\n",
        "print(df)\n",
        "#print(df.to_string())"
      ],
      "metadata": {
        "colab": {
          "base_uri": "https://localhost:8080/"
        },
        "id": "rg-lPs-fDASE",
        "outputId": "16e8cd29-b88d-477e-d60e-f354680f09ec"
      },
      "execution_count": null,
      "outputs": [
        {
          "output_type": "stream",
          "name": "stdout",
          "text": [
            "     Million Plus Cities   Cause category        Cause Subcategory  \\\n",
            "0                   Agra  Traffic Control  Flashing Signal/Blinker   \n",
            "1                   Agra  Traffic Control  Flashing Signal/Blinker   \n",
            "2                   Agra  Traffic Control  Flashing Signal/Blinker   \n",
            "3                   Agra  Traffic Control  Flashing Signal/Blinker   \n",
            "4                   Agra  Traffic Control  Flashing Signal/Blinker   \n",
            "...                  ...              ...                      ...   \n",
            "9545               Vizaq          Weather              Sunny/Clear   \n",
            "9546               Vizaq          Weather              Sunny/Clear   \n",
            "9547               Vizaq          Weather              Sunny/Clear   \n",
            "9548               Vizaq          Weather              Sunny/Clear   \n",
            "9549               Vizaq          Weather              Sunny/Clear   \n",
            "\n",
            "            Outcome of Incident   Count  \n",
            "0            Greviously Injured     0.0  \n",
            "1                  Minor Injury     0.0  \n",
            "2                Persons Killed     0.0  \n",
            "3                 Total Injured     0.0  \n",
            "4     Total number of Accidents     0.0  \n",
            "...                         ...     ...  \n",
            "9545         Greviously Injured   561.0  \n",
            "9546               Minor Injury   252.0  \n",
            "9547             Persons Killed   176.0  \n",
            "9548  Total number of Accidents  1207.0  \n",
            "9549              Total Injured   813.0  \n",
            "\n",
            "[9550 rows x 5 columns]\n"
          ]
        }
      ]
    }
  ]
}